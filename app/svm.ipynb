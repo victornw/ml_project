{
 "cells": [
  {
   "cell_type": "code",
   "execution_count": 1,
   "metadata": {},
   "outputs": [],
   "source": [
    "import polars as pl\n",
    "\n",
    "df = pl.read_csv(\"./dados_tratados.csv\")"
   ]
  },
  {
   "cell_type": "code",
   "execution_count": 2,
   "metadata": {},
   "outputs": [],
   "source": [
    "from sklearn.feature_extraction.text import TfidfVectorizer\n",
    "\n",
    "def tfidf(texts, ngram_range=(1, 2), max_features=2500, min_df=2, max_df=0.8):\n",
    "    vectorizer = TfidfVectorizer(\n",
    "        ngram_range=ngram_range,\n",
    "        max_features=max_features,\n",
    "        min_df=min_df,\n",
    "        max_df=max_df\n",
    "    )\n",
    "    X_tfidf = vectorizer.fit_transform(texts)\n",
    "    return X_tfidf, vectorizer"
   ]
  },
  {
   "cell_type": "code",
   "execution_count": null,
   "metadata": {},
   "outputs": [
    {
     "name": "stdout",
     "output_type": "stream",
     "text": [
      "Fitting 5 folds for each of 8 candidates, totalling 40 fits\n",
      "[CV] END .....................C=0.1, gamma=scale, kernel=rbf; total time= 3.2min\n",
      "[CV] END .....................C=0.1, gamma=scale, kernel=rbf; total time= 3.3min\n",
      "[CV] END .....................C=0.1, gamma=scale, kernel=rbf; total time= 3.3min\n",
      "[CV] END .....................C=0.1, gamma=scale, kernel=rbf; total time= 3.3min\n",
      "[CV] END .....................C=0.1, gamma=scale, kernel=rbf; total time= 3.3min\n",
      "[CV] END ......................C=0.1, gamma=auto, kernel=rbf; total time= 4.2min\n",
      "[CV] END ......................C=0.1, gamma=auto, kernel=rbf; total time= 4.2min\n",
      "[CV] END ......................C=0.1, gamma=auto, kernel=rbf; total time= 4.2min\n",
      "[CV] END .......................C=1, gamma=scale, kernel=rbf; total time= 2.1min\n",
      "[CV] END .......................C=1, gamma=scale, kernel=rbf; total time= 2.1min\n",
      "[CV] END .......................C=1, gamma=scale, kernel=rbf; total time= 2.1min\n",
      "[CV] END .......................C=1, gamma=scale, kernel=rbf; total time= 2.1min\n",
      "[CV] END .......................C=1, gamma=scale, kernel=rbf; total time= 2.1min\n",
      "[CV] END ......................C=0.1, gamma=auto, kernel=rbf; total time= 4.4min\n",
      "[CV] END ......................C=0.1, gamma=auto, kernel=rbf; total time= 4.5min\n",
      "[CV] END ......................C=10, gamma=scale, kernel=rbf; total time= 2.2min\n",
      "[CV] END ........................C=1, gamma=auto, kernel=rbf; total time= 4.8min\n",
      "[CV] END ......................C=10, gamma=scale, kernel=rbf; total time= 2.5min\n",
      "[CV] END ......................C=10, gamma=scale, kernel=rbf; total time= 2.4min\n",
      "[CV] END ........................C=1, gamma=auto, kernel=rbf; total time= 4.9min\n",
      "[CV] END ........................C=1, gamma=auto, kernel=rbf; total time= 4.9min\n",
      "[CV] END ........................C=1, gamma=auto, kernel=rbf; total time= 5.0min\n",
      "[CV] END ......................C=10, gamma=scale, kernel=rbf; total time= 2.4min\n",
      "[CV] END ........................C=1, gamma=auto, kernel=rbf; total time= 4.9min\n",
      "[CV] END ......................C=10, gamma=scale, kernel=rbf; total time= 2.5min\n",
      "[CV] END .....................C=100, gamma=scale, kernel=rbf; total time= 2.8min\n",
      "[CV] END .....................C=100, gamma=scale, kernel=rbf; total time= 3.0min\n",
      "[CV] END .....................C=100, gamma=scale, kernel=rbf; total time= 3.1min\n"
     ]
    }
   ],
   "source": [
    "from sklearn.model_selection import train_test_split\n",
    "from sklearn.model_selection import GridSearchCV\n",
    "from sklearn.metrics import classification_report\n",
    "from sklearn.svm import SVC\n",
    "\n",
    "df_pandas = df.to_pandas()\n",
    "\n",
    "X = df_pandas[\"texto\"]\n",
    "y = df_pandas[\"label\"]\n",
    "\n",
    "X_train, X_test, y_train, y_test = train_test_split(X, y, test_size=0.3, random_state=777)\n",
    "\n",
    "X_train, vectorizer = tfidf(X_train)\n",
    "X_test = vectorizer.transform(X_test)\n",
    "\n",
    "svm = SVC(kernel='linear', probability=True, random_state=777, C=1)\n",
    "\n",
    "params = {\n",
    "    'C': [0.1, 1, 10, 100],\n",
    "    'gamma': ['scale', 'auto'],\n",
    "    'kernel': ['rbf']\n",
    "}\n",
    "\n",
    "grid = GridSearchCV(svm, params, cv=5, scoring='accuracy', n_jobs=-1, verbose=2)\n",
    "grid.fit(X_train, y_train)\n",
    "\n",
    "print(\"Melhores Parâmetros:\", grid.best_params_)\n",
    "print(\"Melhor Acurácia:\", grid.best_score_)\n"
   ]
  },
  {
   "cell_type": "code",
   "execution_count": 9,
   "metadata": {},
   "outputs": [
    {
     "name": "stdout",
     "output_type": "stream",
     "text": [
      "Melhores Parâmetros: {'C': 1}\n",
      "Ein (Erro no Treino): 0.0110\n",
      "Eout (Erro no Teste): 0.0298\n",
      "Eout Esperado (baseado em vetores de suporte): 0.1755\n",
      "              precision    recall  f1-score   support\n",
      "\n",
      "           0      0.977     0.975     0.976      3333\n",
      "           1      0.958     0.961     0.959      1929\n",
      "\n",
      "    accuracy                          0.970      5262\n",
      "   macro avg      0.968     0.968     0.968      5262\n",
      "weighted avg      0.970     0.970     0.970      5262\n",
      "\n"
     ]
    },
    {
     "data": {
      "text/plain": [
       "0\n",
       "0    3326\n",
       "1    1936\n",
       "Name: count, dtype: int64"
      ]
     },
     "execution_count": 9,
     "metadata": {},
     "output_type": "execute_result"
    }
   ],
   "source": [
    "import numpy as np\n",
    "import pandas as pd\n",
    "\n",
    "model = grid.best_estimator_\n",
    "\n",
    "model.fit(X_train, y_train)\n",
    "\n",
    "Ein = 1 - model.score(X_train, y_train)\n",
    "Eout = 1 - model.score(X_test, y_test)\n",
    "n_sv = len(model.support_)\n",
    "N = X_train.shape[0]\n",
    "Eout_esperado = (n_sv / N)\n",
    "\n",
    "print(f\"Melhores Parâmetros: {grid.best_params_}\")\n",
    "print(f\"E_in: {Ein:.4f}\")\n",
    "print(f\"E_out: {Eout:.4f}\")\n",
    "print(f\"E_out Esperado: {Eout_esperado:.4f}\")\n",
    "\n",
    "y_pred = model.predict(X_test)\n",
    "print(classification_report(y_pred=y_pred, y_true=y_test, digits=3))\n",
    "\n",
    "df_t = pd.DataFrame(y_pred)\n",
    "df_t.value_counts()\n"
   ]
  },
  {
   "cell_type": "code",
   "execution_count": null,
   "metadata": {},
   "outputs": [],
   "source": [
    " "
   ]
  }
 ],
 "metadata": {
  "kernelspec": {
   "display_name": ".venv",
   "language": "python",
   "name": "python3"
  },
  "language_info": {
   "codemirror_mode": {
    "name": "ipython",
    "version": 3
   },
   "file_extension": ".py",
   "mimetype": "text/x-python",
   "name": "python",
   "nbconvert_exporter": "python",
   "pygments_lexer": "ipython3",
   "version": "3.12.8"
  }
 },
 "nbformat": 4,
 "nbformat_minor": 2
}
