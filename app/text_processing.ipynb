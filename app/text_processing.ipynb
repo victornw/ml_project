{
 "cells": [
  {
   "cell_type": "code",
   "execution_count": 1,
   "metadata": {},
   "outputs": [],
   "source": [
    "import polars as pl\n",
    "import numpy as np\n",
    "import matplotlib.pyplot as plt\n",
    "import os"
   ]
  },
  {
   "cell_type": "code",
   "execution_count": 47,
   "metadata": {},
   "outputs": [],
   "source": [
    "DATASET_PATH = \"/Users/victor/programming/random/zapcheck/Phishing_Email.csv\"\n",
    "\n",
    "df = pl.read_csv(DATASET_PATH)\n",
    "\n",
    "df = df.select(\n",
    "  pl.col(\"Email Text\").alias(\"texto\"),\n",
    "  pl.when(pl.col(\"Email Type\") == \"Phishing Email\") \n",
    "    .then(pl.lit(1))\n",
    "    .when(pl.col(\"Email Type\") == \"Safe Email\")\n",
    "    .then(pl.lit(0))\n",
    "    .alias(\"label\") \n",
    ")\n",
    "\n",
    "#schema = {\n",
    "#  \"texto\": pl.String,\n",
    "#  \"label\": pl.Int8\n",
    "#}\n",
    "\n",
    "#df = pl.DataFrame(schema=schema)\n",
    "\n",
    "#for file in os.listdir(os.path.join(DATASET_PATH, \"full_texts/fake\")):\n",
    "#  with open(os.path.join(DATASET_PATH, \"full_texts/fake\", file), \"r\") as f:\n",
    "#    df = df.vstack(pl.DataFrame({\"texto\": [f.read()], \"label\": [1]}, schema=schema))\n",
    "\n",
    "#for file in os.listdir(os.path.join(DATASET_PATH, \"full_texts/true\")):\n",
    "#  with open(os.path.join(DATASET_PATH, \"full_texts/true\", file), \"r\") as f:\n",
    "#    df = df.vstack(pl.DataFrame({\"texto\": [f.read()], \"label\": [0]}, schema=schema))"
   ]
  },
  {
   "cell_type": "code",
   "execution_count": 37,
   "metadata": {},
   "outputs": [
    {
     "data": {
      "text/html": [
       "<div><style>\n",
       ".dataframe > thead > tr,\n",
       ".dataframe > tbody > tr {\n",
       "  text-align: right;\n",
       "  white-space: pre-wrap;\n",
       "}\n",
       "</style>\n",
       "<small>shape: (150, 2)</small><table border=\"1\" class=\"dataframe\"><thead><tr><th>texto</th><th>label</th></tr><tr><td>str</td><td>i64</td></tr></thead><tbody><tr><td>&quot;A universidade pode fazer isso…</td><td>1</td></tr><tr><td>&quot;Filho sobre exoneração de alim…</td><td>0</td></tr><tr><td>&quot;Comprei um Monitor, veio quebr…</td><td>1</td></tr><tr><td>&quot;Venda casada na abertura da co…</td><td>1</td></tr><tr><td>&quot;O que significa uma ou mais em…</td><td>1</td></tr><tr><td>&hellip;</td><td>&hellip;</td></tr><tr><td>&quot;A Vivo me enrolando&quot;</td><td>1</td></tr><tr><td>&quot;Minha tia trabalhou durante 5 …</td><td>0</td></tr><tr><td>&quot;Quero fazer a mudança do meu n…</td><td>0</td></tr><tr><td>&quot;Fizemos uma reserva por um sit…</td><td>1</td></tr><tr><td>&quot;Preciso de um esclarecimento a…</td><td>0</td></tr></tbody></table></div>"
      ],
      "text/plain": [
       "shape: (150, 2)\n",
       "┌─────────────────────────────────┬───────┐\n",
       "│ texto                           ┆ label │\n",
       "│ ---                             ┆ ---   │\n",
       "│ str                             ┆ i64   │\n",
       "╞═════════════════════════════════╪═══════╡\n",
       "│ A universidade pode fazer isso… ┆ 1     │\n",
       "│ Filho sobre exoneração de alim… ┆ 0     │\n",
       "│ Comprei um Monitor, veio quebr… ┆ 1     │\n",
       "│ Venda casada na abertura da co… ┆ 1     │\n",
       "│ O que significa uma ou mais em… ┆ 1     │\n",
       "│ …                               ┆ …     │\n",
       "│ A Vivo me enrolando             ┆ 1     │\n",
       "│ Minha tia trabalhou durante 5 … ┆ 0     │\n",
       "│ Quero fazer a mudança do meu n… ┆ 0     │\n",
       "│ Fizemos uma reserva por um sit… ┆ 1     │\n",
       "│ Preciso de um esclarecimento a… ┆ 0     │\n",
       "└─────────────────────────────────┴───────┘"
      ]
     },
     "execution_count": 37,
     "metadata": {},
     "output_type": "execute_result"
    }
   ],
   "source": [
    "df"
   ]
  },
  {
   "cell_type": "code",
   "execution_count": 38,
   "metadata": {},
   "outputs": [
    {
     "data": {
      "text/html": [
       "<div><style>\n",
       ".dataframe > thead > tr,\n",
       ".dataframe > tbody > tr {\n",
       "  text-align: right;\n",
       "  white-space: pre-wrap;\n",
       "}\n",
       "</style>\n",
       "<small>shape: (5, 2)</small><table border=\"1\" class=\"dataframe\"><thead><tr><th>texto</th><th>label</th></tr><tr><td>str</td><td>i64</td></tr></thead><tbody><tr><td>&quot;Filho sobre exoneração de alim…</td><td>0</td></tr><tr><td>&quot;Tempo de pagamento aviso prévi…</td><td>0</td></tr><tr><td>&quot;Como garantir autoria de uma o…</td><td>0</td></tr><tr><td>&quot;Desabafo de um clínico CLT&quot;</td><td>0</td></tr><tr><td>&quot;Cachorro da vizinha não para d…</td><td>0</td></tr></tbody></table></div>"
      ],
      "text/plain": [
       "shape: (5, 2)\n",
       "┌─────────────────────────────────┬───────┐\n",
       "│ texto                           ┆ label │\n",
       "│ ---                             ┆ ---   │\n",
       "│ str                             ┆ i64   │\n",
       "╞═════════════════════════════════╪═══════╡\n",
       "│ Filho sobre exoneração de alim… ┆ 0     │\n",
       "│ Tempo de pagamento aviso prévi… ┆ 0     │\n",
       "│ Como garantir autoria de uma o… ┆ 0     │\n",
       "│ Desabafo de um clínico CLT      ┆ 0     │\n",
       "│ Cachorro da vizinha não para d… ┆ 0     │\n",
       "└─────────────────────────────────┴───────┘"
      ]
     },
     "execution_count": 38,
     "metadata": {},
     "output_type": "execute_result"
    }
   ],
   "source": [
    "df.filter(df[\"label\"] == 0).head()"
   ]
  },
  {
   "cell_type": "code",
   "execution_count": 35,
   "metadata": {},
   "outputs": [
    {
     "name": "stdout",
     "output_type": "stream",
     "text": [
      "Dataset size:  150\n",
      "phishing:  75\n",
      "emais normais:  75\n"
     ]
    }
   ],
   "source": [
    "print(\"Dataset size: \", len(df))\n",
    "print(\"phishing: \", len(df.filter(df[\"label\"] == 0)))\n",
    "print(\"emais normais: \", len(df.filter(df[\"label\"] == 1)))\n"
   ]
  },
  {
   "cell_type": "code",
   "execution_count": 71,
   "metadata": {},
   "outputs": [
    {
     "name": "stdout",
     "output_type": "stream",
     "text": [
      "Duplicados:  1588\n",
      "Nulos:  shape: (1, 2)\n",
      "┌───────┬───────┐\n",
      "│ texto ┆ label │\n",
      "│ ---   ┆ ---   │\n",
      "│ u32   ┆ u32   │\n",
      "╞═══════╪═══════╡\n",
      "│ 16    ┆ 0     │\n",
      "└───────┴───────┘\n"
     ]
    }
   ],
   "source": [
    "print(\"Duplicados: \", df.is_duplicated().sum())\n",
    "\n",
    "print(\"Nulos: \", df.null_count())\n",
    "\n",
    "df = df.unique(maintain_order=True)"
   ]
  },
  {
   "cell_type": "code",
   "execution_count": 73,
   "metadata": {},
   "outputs": [],
   "source": [
    "import spacy\n",
    "import unicodedata\n",
    "\n",
    "#uv run spacy download pt_core_news_sm\n",
    "\n",
    "def remove_acentos(input_str) -> str:\n",
    "    nfkd_form = unicodedata.normalize('NFKD', input_str)\n",
    "    return \"\".join([c for c in nfkd_form if not unicodedata.category(c) == 'Mn'])\n",
    "\n",
    "def remove_numeros_pequenos(text):\n",
    "    import re\n",
    "    return re.sub(r'\\b\\d{1,3}\\b', '', text)\n",
    "\n",
    "df = df.with_columns(\n",
    "    pl.col(\"texto\")\n",
    "    .str.to_lowercase()\n",
    "    .str.replace_all(r'http?://\\S+', '') #remove links\n",
    "    .str.replace_all(r'[^a-zA-Z0-9\\s]', '') #remove caracteres especiais\n",
    "    .map_elements(remove_acentos, return_dtype=pl.Utf8)\n",
    "    .str.replace_all(r'\\s+', ' ')\n",
    "    .map_elements(remove_numeros_pequenos, return_dtype=pl.Utf8)\n",
    "    .str.slice(0, 1500000)\n",
    "    .alias(\"texto\")\n",
    ")\n",
    "#remove as stopwords\n",
    "\n",
    "nlp = spacy.load(\"en_core_web_sm\")\n",
    "nlp.max_length = 1500000\n",
    "\n",
    "def remove_stopwords(text):\n",
    "    doc = nlp(text)\n",
    "    return \" \".join([token.text for token in doc if not token.is_stop])\n",
    "\n",
    "df = df.with_columns(\n",
    "  texto=pl.col(\"texto\").map_elements(remove_stopwords, return_dtype=pl.Utf8)\n",
    ")\n",
    "\n",
    "df = df.drop_nulls()\n"
   ]
  },
  {
   "cell_type": "code",
   "execution_count": 74,
   "metadata": {},
   "outputs": [],
   "source": [
    "df.write_csv(\"./dados_tratados.csv\")"
   ]
  }
 ],
 "metadata": {
  "kernelspec": {
   "display_name": ".venv",
   "language": "python",
   "name": "python3"
  },
  "language_info": {
   "codemirror_mode": {
    "name": "ipython",
    "version": 3
   },
   "file_extension": ".py",
   "mimetype": "text/x-python",
   "name": "python",
   "nbconvert_exporter": "python",
   "pygments_lexer": "ipython3",
   "version": "3.12.8"
  }
 },
 "nbformat": 4,
 "nbformat_minor": 2
}
